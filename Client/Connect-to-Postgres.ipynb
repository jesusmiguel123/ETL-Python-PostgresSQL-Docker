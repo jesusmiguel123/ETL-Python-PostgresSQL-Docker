{
 "cells": [
  {
   "attachments": {},
   "cell_type": "markdown",
   "metadata": {},
   "source": [
    "## Importing library to connect to Postgres"
   ]
  },
  {
   "cell_type": "code",
   "execution_count": 9,
   "metadata": {
    "scrolled": true
   },
   "outputs": [],
   "source": [
    "import psycopg2"
   ]
  },
  {
   "attachments": {},
   "cell_type": "markdown",
   "metadata": {},
   "source": [
    "## Connect to Postgres"
   ]
  },
  {
   "cell_type": "code",
   "execution_count": 31,
   "metadata": {},
   "outputs": [
    {
     "name": "stdout",
     "output_type": "stream",
     "text": [
      "Postgres connected!\n"
     ]
    }
   ],
   "source": [
    "try:\n",
    "    conn = psycopg2.connect(\"host=pg dbname=postgres user=pguser password=asd123\")\n",
    "    print(\"Postgres connected!\")\n",
    "except Exception as e:\n",
    "    print(f\"Connection error!\\n{e}\")"
   ]
  },
  {
   "attachments": {},
   "cell_type": "markdown",
   "metadata": {},
   "source": [
    "## Create cursor to execute commands"
   ]
  },
  {
   "cell_type": "code",
   "execution_count": 32,
   "metadata": {},
   "outputs": [
    {
     "name": "stdout",
     "output_type": "stream",
     "text": [
      "Cursor created!\n"
     ]
    }
   ],
   "source": [
    "try:\n",
    "    cur = conn.cursor()\n",
    "    print(\"Cursor created!\")\n",
    "except Exception as e:\n",
    "    print(f\"Cursor cant't be created!\\n{e}\")"
   ]
  },
  {
   "attachments": {},
   "cell_type": "markdown",
   "metadata": {},
   "source": [
    "## Autocommit every instraction"
   ]
  },
  {
   "cell_type": "code",
   "execution_count": 33,
   "metadata": {},
   "outputs": [],
   "source": [
    "conn.set_session(autocommit=True)"
   ]
  },
  {
   "attachments": {},
   "cell_type": "markdown",
   "metadata": {},
   "source": [
    "## Create new database"
   ]
  },
  {
   "cell_type": "code",
   "execution_count": 34,
   "metadata": {},
   "outputs": [
    {
     "name": "stdout",
     "output_type": "stream",
     "text": [
      "DB cant't be created!\n",
      "database \"db\" already exists\n",
      "\n"
     ]
    }
   ],
   "source": [
    "try:\n",
    "    cur.execute(\"CREATE DATABASE db;\")\n",
    "    print(\"DB created!\")\n",
    "except Exception as e:\n",
    "    print(f\"DB cant't be created!\\n{e}\")"
   ]
  },
  {
   "attachments": {},
   "cell_type": "markdown",
   "metadata": {},
   "source": [
    "## Connect to new database"
   ]
  },
  {
   "cell_type": "code",
   "execution_count": 44,
   "metadata": {},
   "outputs": [
    {
     "name": "stdout",
     "output_type": "stream",
     "text": [
      "Connection closed!\n",
      "Postgres connected!\n",
      "Cursor created!\n"
     ]
    }
   ],
   "source": [
    "try:\n",
    "    conn.close()\n",
    "    print(\"Connection closed!\")\n",
    "except Exception as e:\n",
    "    print(f\"Connection cant't be closed!\\n{e}\")\n",
    "\n",
    "try:\n",
    "    conn = psycopg2.connect(\"host=pg dbname=db user=pguser password=asd123\")\n",
    "    print(\"Postgres connected!\")\n",
    "except Exception as e:\n",
    "    print(f\"Connection error!\\n{e}\")\n",
    "\n",
    "try:\n",
    "    cur = conn.cursor()\n",
    "    print(\"Cursor created!\")\n",
    "except Exception as e:\n",
    "    print(f\"Cursor cant't be created!\\n{e}\")\n",
    "\n",
    "conn.set_session(autocommit=True)"
   ]
  },
  {
   "attachments": {},
   "cell_type": "markdown",
   "metadata": {},
   "source": [
    "## Create table"
   ]
  },
  {
   "cell_type": "code",
   "execution_count": 45,
   "metadata": {},
   "outputs": [
    {
     "name": "stdout",
     "output_type": "stream",
     "text": [
      "Table created!\n"
     ]
    }
   ],
   "source": [
    "try:\n",
    "    cur.execute(\"CREATE TABLE IF NOT EXISTS estudiantes (\\\n",
    "                est_id int,\\\n",
    "                nombre varchar,\\\n",
    "                edad int,\\\n",
    "                genero varchar,\\\n",
    "                curso varchar,\\\n",
    "                nota int);\")\n",
    "    print(\"Table created!\")\n",
    "except Exception as e:\n",
    "    print(f\"Table cant't be created!\\n{e}\")"
   ]
  },
  {
   "attachments": {},
   "cell_type": "markdown",
   "metadata": {},
   "source": [
    "## Insert values into table"
   ]
  },
  {
   "cell_type": "code",
   "execution_count": 46,
   "metadata": {},
   "outputs": [
    {
     "name": "stdout",
     "output_type": "stream",
     "text": [
      "Executed!\n"
     ]
    }
   ],
   "source": [
    "try:\n",
    "    cur.execute(\"INSERT INTO estudiantes (\\\n",
    "                    est_id, nombre, edad, genero, curso, nota\\\n",
    "                ) VALUES (%s, %s, %s, %s, %s, %s);\",\n",
    "                (1, \"Juan\", 23, \"M\", \"Python\", \"17\"))\n",
    "    print(\"Executed!\")\n",
    "except Exception as e:\n",
    "    print(f\"It cant't be executed!\\n{e}\")"
   ]
  },
  {
   "cell_type": "code",
   "execution_count": 47,
   "metadata": {},
   "outputs": [
    {
     "name": "stdout",
     "output_type": "stream",
     "text": [
      "Executed!\n"
     ]
    }
   ],
   "source": [
    "try:\n",
    "    cur.execute(\"INSERT INTO estudiantes (\\\n",
    "                    est_id, nombre, edad, genero, curso, nota\\\n",
    "                ) VALUES (%s, %s, %s, %s, %s, %s);\",\n",
    "                (2, \"Estela\", 36, \"H\", \"C++\", \"20\"))\n",
    "    print(\"Executed!\")\n",
    "except Exception as e:\n",
    "    print(f\"It cant't be executed!\\n{e}\")"
   ]
  },
  {
   "attachments": {},
   "cell_type": "markdown",
   "metadata": {},
   "source": [
    "## See values in table"
   ]
  },
  {
   "cell_type": "code",
   "execution_count": 50,
   "metadata": {
    "scrolled": true
   },
   "outputs": [
    {
     "name": "stdout",
     "output_type": "stream",
     "text": [
      "Executed!\n",
      "(1, 'Juan', 23, 'M', 'Python', 17)\n",
      "(2, 'Estela', 36, 'H', 'C++', 20)\n"
     ]
    }
   ],
   "source": [
    "try:\n",
    "    cur.execute(\"SELECT * FROM estudiantes;\")\n",
    "    print(\"Executed!\")\n",
    "except Exception as e:\n",
    "    print(f\"It cant't be executed!\\n{e}\")\n",
    "\n",
    "row = cur.fetchone()\n",
    "while row:\n",
    "    print(row)\n",
    "    row = cur.fetchone()"
   ]
  },
  {
   "attachments": {},
   "cell_type": "markdown",
   "metadata": {},
   "source": [
    "## Close connection and cursor"
   ]
  },
  {
   "cell_type": "code",
   "execution_count": 51,
   "metadata": {},
   "outputs": [
    {
     "name": "stdout",
     "output_type": "stream",
     "text": [
      "Connection closed!\n",
      "Cursor closed!\n"
     ]
    }
   ],
   "source": [
    "try:\n",
    "    conn.close()\n",
    "    print(\"Connection closed!\")\n",
    "except Exception as e:\n",
    "    print(f\"Connection cant't be closed!\\n{e}\")\n",
    "\n",
    "try:\n",
    "    cur.close()\n",
    "    print(\"Cursor closed!\")\n",
    "except Exception as e:\n",
    "    print(f\"Cursor cant't be closed!\\n{e}\")"
   ]
  }
 ],
 "metadata": {
  "kernelspec": {
   "display_name": "Python 3 (ipykernel)",
   "language": "python",
   "name": "python3"
  },
  "language_info": {
   "codemirror_mode": {
    "name": "ipython",
    "version": 3
   },
   "file_extension": ".py",
   "mimetype": "text/x-python",
   "name": "python",
   "nbconvert_exporter": "python",
   "pygments_lexer": "ipython3",
   "version": "3.10.6"
  },
  "vscode": {
   "interpreter": {
    "hash": "916dbcbb3f70747c44a77c7bcd40155683ae19c65e1c03b4aa3499c5328201f1"
   }
  }
 },
 "nbformat": 4,
 "nbformat_minor": 2
}
